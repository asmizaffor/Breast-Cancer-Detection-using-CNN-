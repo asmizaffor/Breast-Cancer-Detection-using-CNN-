{
  "nbformat": 4,
  "nbformat_minor": 0,
  "metadata": {
    "colab": {
      "provenance": [],
      "authorship_tag": "ABX9TyNMjmqbC8rl3toJrGqL+W/z",
      "include_colab_link": true
    },
    "kernelspec": {
      "name": "python3",
      "display_name": "Python 3"
    },
    "language_info": {
      "name": "python"
    }
  },
  "cells": [
    {
      "cell_type": "markdown",
      "metadata": {
        "id": "view-in-github",
        "colab_type": "text"
      },
      "source": [
        "<a href=\"https://colab.research.google.com/github/asmizaffor/Breast-Cancer-Detection-using-CNN-/blob/main/TM_Project.ipynb\" target=\"_parent\"><img src=\"https://colab.research.google.com/assets/colab-badge.svg\" alt=\"Open In Colab\"/></a>"
      ]
    },
    {
      "cell_type": "markdown",
      "source": [
        "**FAKE NEWS DETECTION USING NLTK**\n",
        "\n",
        "Syeda Asmi Zaffor"
      ],
      "metadata": {
        "id": "eftaAShShWX1"
      }
    },
    {
      "cell_type": "code",
      "execution_count": 5,
      "metadata": {
        "id": "4CUH5zr_hTS8"
      },
      "outputs": [],
      "source": [
        "import pandas as pd\n",
        "import numpy as np\n",
        "import re\n",
        "import nltk\n",
        "from nltk.corpus import stopwords\n",
        "from nltk.stem.porter import PorterStemmer\n",
        "from sklearn.model_selection import train_test_split\n",
        "from sklearn.feature_extraction.text import TfidfVectorizer\n",
        "from sklearn.linear_model import PassiveAggressiveClassifier\n",
        "from sklearn.metrics import accuracy_score, confusion_matrix\n",
        "import itertools\n",
        "import matplotlib.pyplot as plt\n",
        "import os"
      ]
    },
    {
      "cell_type": "code",
      "source": [
        "# Download NLTK stopwords\n",
        "nltk.download('stopwords')"
      ],
      "metadata": {
        "colab": {
          "base_uri": "https://localhost:8080/"
        },
        "id": "zvIn18QyhodW",
        "outputId": "7f8ca7de-1d10-4701-94e7-8e0e3f56ff08"
      },
      "execution_count": 2,
      "outputs": [
        {
          "output_type": "stream",
          "name": "stderr",
          "text": [
            "[nltk_data] Downloading package stopwords to /root/nltk_data...\n",
            "[nltk_data]   Unzipping corpora/stopwords.zip.\n"
          ]
        },
        {
          "output_type": "execute_result",
          "data": {
            "text/plain": [
              "True"
            ]
          },
          "metadata": {},
          "execution_count": 2
        }
      ]
    },
    {
      "cell_type": "code",
      "source": [
        "from google.colab import drive\n",
        "drive.mount('/content/drive')"
      ],
      "metadata": {
        "colab": {
          "base_uri": "https://localhost:8080/"
        },
        "id": "jvyFOZHkhyTT",
        "outputId": "de9fe798-62ef-423a-8e26-9aaf8d986bfd"
      },
      "execution_count": 3,
      "outputs": [
        {
          "output_type": "stream",
          "name": "stdout",
          "text": [
            "Mounted at /content/drive\n"
          ]
        }
      ]
    },
    {
      "cell_type": "code",
      "source": [
        "folder_path = '/content/drive/MyDrive/newsss'\n",
        "print(\"Files in folder:\")\n",
        "print(os.listdir(folder_path))"
      ],
      "metadata": {
        "colab": {
          "base_uri": "https://localhost:8080/"
        },
        "id": "4XYyyxwVh1b9",
        "outputId": "5f719c20-70bf-4da9-e165-b87c76e054a9"
      },
      "execution_count": 6,
      "outputs": [
        {
          "output_type": "stream",
          "name": "stdout",
          "text": [
            "Files in folder:\n",
            "['Fake.csv', 'True.csv']\n"
          ]
        }
      ]
    },
    {
      "cell_type": "code",
      "source": [
        "df_fake = pd.read_csv('/content/drive/MyDrive/newsss/Fake.csv')\n",
        "df_true = pd.read_csv('/content/drive/MyDrive/newsss/True.csv')\n",
        "\n",
        "# Add a 'label' column to identify fake (0) and true (1) news\n",
        "df_fake['label'] = 0\n",
        "df_true['label'] = 1\n",
        "\n",
        "# Combine the two dataframes\n",
        "df = pd.concat([df_fake, df_true], ignore_index=True)\n",
        "\n",
        "# Shuffle the dataset to mix fake and true news entries\n",
        "df = df.sample(frac=1, random_state=42).reset_index(drop=True)\n",
        "\n",
        "print(\"Combined DataFrame Head:\")\n",
        "print(df.head())\n",
        "print(\"\\nDataFrame Info:\")\n",
        "df.info()"
      ],
      "metadata": {
        "colab": {
          "base_uri": "https://localhost:8080/"
        },
        "id": "kybQqsp8hqtH",
        "outputId": "6bb3609b-8563-4e60-fa84-30bc2f68ace8"
      },
      "execution_count": 10,
      "outputs": [
        {
          "output_type": "stream",
          "name": "stdout",
          "text": [
            "Combined DataFrame Head:\n",
            "                                               title  \\\n",
            "0  Ben Stein Calls Out 9th Circuit Court: Committ...   \n",
            "1  Trump drops Steve Bannon from National Securit...   \n",
            "2  Puerto Rico expects U.S. to lift Jones Act shi...   \n",
            "3   OOPS: Trump Just Accidentally Confirmed He Le...   \n",
            "4  Donald Trump heads for Scotland to reopen a go...   \n",
            "\n",
            "                                                text       subject  \\\n",
            "0  21st Century Wire says Ben Stein, reputable pr...       US_News   \n",
            "1  WASHINGTON (Reuters) - U.S. President Donald T...  politicsNews   \n",
            "2  (Reuters) - Puerto Rico Governor Ricardo Rosse...  politicsNews   \n",
            "3  On Monday, Donald Trump once again embarrassed...          News   \n",
            "4  GLASGOW, Scotland (Reuters) - Most U.S. presid...  politicsNews   \n",
            "\n",
            "                  date  label  \n",
            "0    February 13, 2017      0  \n",
            "1       April 5, 2017       1  \n",
            "2  September 27, 2017       1  \n",
            "3         May 22, 2017      0  \n",
            "4       June 24, 2016       1  \n",
            "\n",
            "DataFrame Info:\n",
            "<class 'pandas.core.frame.DataFrame'>\n",
            "RangeIndex: 44898 entries, 0 to 44897\n",
            "Data columns (total 5 columns):\n",
            " #   Column   Non-Null Count  Dtype \n",
            "---  ------   --------------  ----- \n",
            " 0   title    44898 non-null  object\n",
            " 1   text     44898 non-null  object\n",
            " 2   subject  44898 non-null  object\n",
            " 3   date     44898 non-null  object\n",
            " 4   label    44898 non-null  int64 \n",
            "dtypes: int64(1), object(4)\n",
            "memory usage: 1.7+ MB\n"
          ]
        }
      ]
    },
    {
      "cell_type": "code",
      "source": [
        "# Initialize PorterStemmer for stemming\n",
        "ps = PorterStemmer()\n",
        "stopwords_set = set(stopwords.words('english'))\n",
        "\n",
        "def preprocess_text(content):\n",
        "    # Keep only alphabetic characters, remove others\n",
        "    stemmed_content = re.sub('[^a-zA-Z]',' ', content)\n",
        "    # Convert to lowercase\n",
        "    stemmed_content = stemmed_content.lower()\n",
        "    # Split into list of words (tokenize)\n",
        "    stemmed_content = stemmed_content.split()\n",
        "    # Remove stopwords and perform stemming\n",
        "    stemmed_content = [ps.stem(word) for word in stemmed_content if not word in stopwords_set]\n",
        "    # Join the words back into a single string\n",
        "    stemmed_content = ' '.join(stemmed_content)\n",
        "    return stemmed_content\n",
        "\n",
        "print(\"Preprocessing function is ready.\")"
      ],
      "metadata": {
        "colab": {
          "base_uri": "https://localhost:8080/"
        },
        "id": "BTB4B8a0izkf",
        "outputId": "f57c954e-4c68-4baf-ebac-887d65e3b47b"
      },
      "execution_count": 11,
      "outputs": [
        {
          "output_type": "stream",
          "name": "stdout",
          "text": [
            "Preprocessing function is ready.\n"
          ]
        }
      ]
    },
    {
      "cell_type": "code",
      "source": [
        "# Combine title and text for a more comprehensive feature\n",
        "df['content'] = df['title'] + ' ' + df['text']\n",
        "\n",
        "print(\"Applying preprocessing to the content... This may take a few minutes.\")\n",
        "df['stemmed_content'] = df['content'].apply(preprocess_text)\n",
        "print(\"Preprocessing complete.\")\n",
        "\n",
        "# Separate features (X) and labels (y)\n",
        "X = df['stemmed_content'].values\n",
        "y = df['label'].values\n",
        "\n",
        "print(f\"\\nShape of features (X): {X.shape}\")\n",
        "print(f\"Shape of labels (y): {y.shape}\")"
      ],
      "metadata": {
        "colab": {
          "base_uri": "https://localhost:8080/"
        },
        "id": "kPDybKRQi3e-",
        "outputId": "b8c125bd-7542-4d51-e684-1812cb3831c5"
      },
      "execution_count": 12,
      "outputs": [
        {
          "output_type": "stream",
          "name": "stdout",
          "text": [
            "Applying preprocessing to the content... This may take a few minutes.\n",
            "Preprocessing complete.\n",
            "\n",
            "Shape of features (X): (44898,)\n",
            "Shape of labels (y): (44898,)\n"
          ]
        }
      ]
    },
    {
      "cell_type": "code",
      "source": [
        "# Initialize the TF-IDF Vectorizer\n",
        "vectorizer = TfidfVectorizer()\n",
        "\n",
        "# Fit and transform the preprocessed text data\n",
        "X = vectorizer.fit_transform(X)\n",
        "\n",
        "print(f\"Text data has been vectorized. Shape of TF-IDF matrix: {X.shape}\")"
      ],
      "metadata": {
        "colab": {
          "base_uri": "https://localhost:8080/"
        },
        "id": "KpNMROJXi6it",
        "outputId": "955d725c-f6fe-484b-c5a2-bf098e2b09cc"
      },
      "execution_count": 13,
      "outputs": [
        {
          "output_type": "stream",
          "name": "stdout",
          "text": [
            "Text data has been vectorized. Shape of TF-IDF matrix: (44898, 89868)\n"
          ]
        }
      ]
    },
    {
      "cell_type": "code",
      "source": [
        "# Split the data into training and testing sets\n",
        "X_train, X_test, y_train, y_test = train_test_split(X, y, test_size=0.2, stratify=y, random_state=42)\n",
        "\n",
        "# Initialize and train the PassiveAggressiveClassifier model\n",
        "model = PassiveAggressiveClassifier(max_iter=100)\n",
        "model.fit(X_train, y_train)\n",
        "\n",
        "print(\"Model training complete.\")"
      ],
      "metadata": {
        "colab": {
          "base_uri": "https://localhost:8080/"
        },
        "id": "U0uUCJrQi9K2",
        "outputId": "c5f7dfd1-6f39-4c9b-fb7f-b40e691c1457"
      },
      "execution_count": 14,
      "outputs": [
        {
          "output_type": "stream",
          "name": "stdout",
          "text": [
            "Model training complete.\n"
          ]
        }
      ]
    },
    {
      "cell_type": "code",
      "source": [
        "# Testing\n",
        "y_pred = model.predict(X_test)\n",
        "\n",
        "# Accuracy\n",
        "accuracy = accuracy_score(y_test, y_pred)\n",
        "print(f'Accuracy: {accuracy*100:.2f}%')\n",
        "\n",
        "# Confusion matrix\n",
        "cm = confusion_matrix(y_test, y_pred)\n",
        "print(\"\\nConfusion Matrix:\")\n",
        "print(cm)\n",
        "\n",
        "def plot_confusion_matrix(cm, classes, normalize=False, title='Confusion matrix', cmap=plt.cm.Blues):\n",
        "    plt.imshow(cm, interpolation='nearest', cmap=cmap)\n",
        "    plt.title(title)\n",
        "    plt.colorbar()\n",
        "    tick_marks = np.arange(len(classes))\n",
        "    plt.xticks(tick_marks, classes, rotation=45)\n",
        "    plt.yticks(tick_marks, classes)\n",
        "\n",
        "    fmt = '.2f' if normalize else 'd'\n",
        "    thresh = cm.max() / 2.\n",
        "    for i, j in itertools.product(range(cm.shape[0]), range(cm.shape[1])):\n",
        "        plt.text(j, i, format(cm[i, j], fmt),\n",
        "                 horizontalalignment=\"center\",\n",
        "                 color=\"white\" if cm[i, j] > thresh else \"black\")\n",
        "\n",
        "    plt.tight_layout()\n",
        "    plt.ylabel('True label')\n",
        "    plt.xlabel('Predicted label')\n",
        "    plt.show()\n",
        "\n",
        "# Plotting the confusion matrix\n",
        "plot_confusion_matrix(cm, classes=['Fake (0)', 'True (1)'])"
      ],
      "metadata": {
        "colab": {
          "base_uri": "https://localhost:8080/",
          "height": 595
        },
        "id": "VHbJzVG7jArV",
        "outputId": "63a903ff-022b-411d-ddab-60c7bdaf0382"
      },
      "execution_count": 15,
      "outputs": [
        {
          "output_type": "stream",
          "name": "stdout",
          "text": [
            "Accuracy: 99.49%\n",
            "\n",
            "Confusion Matrix:\n",
            "[[4677   19]\n",
            " [  27 4257]]\n"
          ]
        },
        {
          "output_type": "display_data",
          "data": {
            "text/plain": [
              "<Figure size 640x480 with 2 Axes>"
            ],
            "image/png": "[encoded data removed]"
          },
          "metadata": {}
        }
      ]
    },
    {
      "cell_type": "code",
      "source": [
        "# Function to predict on new input\n",
        "def predict_news(news_text):\n",
        "    # Preprocess the input text\n",
        "    processed_text = preprocess_text(news_text)\n",
        "    # Vectorize the preprocessed text\n",
        "    vectorized_text = vectorizer.transform([processed_text])\n",
        "    # Predict using the trained model\n",
        "    prediction = model.predict(vectorized_text)\n",
        "\n",
        "    if prediction[0] == 0:\n",
        "        return \"🚨 This looks like FAKE news.\"\n",
        "    else:\n",
        "        return \"✅ This looks like REAL news.\"\n",
        "\n",
        "# Example usage with a new piece of text\n",
        "news_text = \"Scientists have discovered a new species of glowing frog in the Amazon rainforest. The discovery highlights the incredible biodiversity of the region and the need for its conservation.\"\n",
        "print(f\"Input: '{news_text}'\")\n",
        "print(f\"Prediction: {predict_news(news_text)}\")\n",
        "\n",
        "print(\"-\" * 20)\n",
        "\n",
        "# Another example\n",
        "news_text_fake = \"BREAKING: The moon has been officially declared a giant block of cheese by international space agencies.\"\n",
        "print(f\"Input: '{news_text_fake}'\")\n",
        "print(f\"Prediction: {predict_news(news_text_fake)}\")"
      ],
      "metadata": {
        "colab": {
          "base_uri": "https://localhost:8080/"
        },
        "id": "-MKgRI31jFoY",
        "outputId": "d50e6706-91f1-40f9-a9fd-85594ae8d94a"
      },
      "execution_count": 16,
      "outputs": [
        {
          "output_type": "stream",
          "name": "stdout",
          "text": [
            "Input: 'Scientists have discovered a new species of glowing frog in the Amazon rainforest. The discovery highlights the incredible biodiversity of the region and the need for its conservation.'\n",
            "Prediction: 🚨 This looks like FAKE news.\n",
            "--------------------\n",
            "Input: 'BREAKING: The moon has been officially declared a giant block of cheese by international space agencies.'\n",
            "Prediction: 🚨 This looks like FAKE news.\n"
          ]
        }
      ]
    }
  ]
}