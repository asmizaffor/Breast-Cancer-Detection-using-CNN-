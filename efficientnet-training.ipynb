{
 "cells": [
  {
   "cell_type": "code",
   "execution_count": null,
   "metadata": {
    "_cell_guid": "b1076dfc-b9ad-4769-8c92-a6c4dae69d19",
    "_uuid": "8f2839f25d086af736a60e9eeb907d3b93b6e0e5",
    "execution": {
     "iopub.execute_input": "2025-04-15T01:30:05.487016Z",
     "iopub.status.busy": "2025-04-15T01:30:05.486610Z",
     "iopub.status.idle": "2025-04-15T01:30:10.516753Z",
     "shell.execute_reply": "2025-04-15T01:30:10.515617Z",
     "shell.execute_reply.started": "2025-04-15T01:30:05.486981Z"
    },
    "trusted": true
   },
   "outputs": [],
   "source": [
    "# This Python 3 environment comes with many helpful analytics libraries installed\n",
    "# It is defined by the kaggle/python Docker image: https://github.com/kaggle/docker-python\n",
    "\n",
    "\n",
    "import numpy as np \n",
    "import pandas as pd \n",
    "import os\n",
    "for dirname, _, filenames in os.walk('/kaggle/input'):\n",
    "    for filename in filenames:\n",
    "        print(os.path.join(dirname, filename))\n",
    "\n",
    "# You can write up to 20GB to the current directory (/kaggle/working/) that gets preserved as output when you create a version using \"Save & Run All\" \n",
    "# You can also write temporary files to /kaggle/temp/, but they won't be saved outside of the current session"
   ]
  },
  {
   "cell_type": "code",
   "execution_count": null,
   "metadata": {
    "execution": {
     "iopub.execute_input": "2025-04-15T01:30:10.518209Z",
     "iopub.status.busy": "2025-04-15T01:30:10.517911Z",
     "iopub.status.idle": "2025-04-15T01:30:12.520524Z",
     "shell.execute_reply": "2025-04-15T01:30:12.519372Z",
     "shell.execute_reply.started": "2025-04-15T01:30:10.518183Z"
    },
    "trusted": true
   },
   "outputs": [],
   "source": [
    "import tensorflow as tf\n",
    "import numpy as np\n",
    "import os\n",
    "import cv2\n",
    "import matplotlib.pyplot as plt\n",
    "from sklearn.model_selection import train_test_split\n",
    "from sklearn.preprocessing import LabelEncoder, OneHotEncoder\n",
    "from sklearn.utils import shuffle\n",
    "from tensorflow.keras.callbacks import ModelCheckpoint, EarlyStopping, ReduceLROnPlateau\n",
    "\n",
    "from tensorflow.keras.preprocessing import image\n",
    "from tensorflow.keras.applications.efficientnet import preprocess_input\n",
    "from tensorflow.keras.models import load_model\n",
    "\n",
    "\n",
    "\n",
    "print(\"GPU:\", tf.config.list_physical_devices('GPU'))\n",
    "!nvidia-smi"
   ]
  },
  {
   "cell_type": "code",
   "execution_count": null,
   "metadata": {
    "execution": {
     "iopub.execute_input": "2025-04-15T01:30:12.523942Z",
     "iopub.status.busy": "2025-04-15T01:30:12.522796Z",
     "iopub.status.idle": "2025-04-15T01:32:57.035191Z",
     "shell.execute_reply": "2025-04-15T01:32:57.034039Z",
     "shell.execute_reply.started": "2025-04-15T01:30:12.523896Z"
    },
    "trusted": true
   },
   "outputs": [],
   "source": [
    "import os, cv2, numpy as np\n",
    "from tqdm import tqdm\n",
    "\n",
    "dataset_path = \"/kaggle/input/breakhis/Breakhis\"\n",
    "im_size      = 260\n",
    "\n",
    "images, labels = [], []\n",
    "total_seen = good_resized = skipped_notimg = skipped_unread = 0\n",
    "\n",
    "categories = os.listdir(dataset_path)   # ['benign', 'malignant']\n",
    "\n",
    "for category in categories:\n",
    "    class_path = os.path.join(dataset_path, category)\n",
    "    if not os.path.isdir(class_path):\n",
    "        continue\n",
    "\n",
    "    for fname in tqdm(os.listdir(class_path), desc=f\"Loading {category}\"):\n",
    "        total_seen += 1\n",
    "\n",
    "        if not fname.lower().endswith(('.png', '.jpg', '.jpeg')):\n",
    "            skipped_notimg += 1\n",
    "            continue\n",
    "\n",
    "        fpath = os.path.join(class_path, fname)\n",
    "        if not os.path.isfile(fpath):\n",
    "            skipped_notimg += 1\n",
    "            continue\n",
    "\n",
    "        img = cv2.imread(fpath)\n",
    "        if img is None:\n",
    "            skipped_unread += 1\n",
    "            continue\n",
    "\n",
    "        img = cv2.resize(img, (im_size, im_size))\n",
    "        good_resized += 1\n",
    "\n",
    "        images.append(img)\n",
    "        labels.append(category)\n",
    "\n",
    "# Converting to numpy arrays\n",
    "images = np.array(images, dtype=np.float32) / 255.0     # (N, 260, 260, 3)\n",
    "labels = np.array(labels).ravel()                       # (N,)\n",
    "\n",
    "print(\"\\n===== Loader Summary =====\")\n",
    "print(f\"Total entries seen   : {total_seen}\")\n",
    "print(f\"Successfully resized : {good_resized}\")\n",
    "print(f\"Skipped (not images) : {skipped_notimg}\")\n",
    "print(f\"Skipped (unreadable) : {skipped_unread}\")\n",
    "print(f\"images shape         : {images.shape}\")\n",
    "print(f\"labels raw shape     : {labels.shape}\")"
   ]
  },
  {
   "cell_type": "code",
   "execution_count": null,
   "metadata": {
    "execution": {
     "iopub.execute_input": "2025-04-15T01:32:57.037305Z",
     "iopub.status.busy": "2025-04-15T01:32:57.036895Z",
     "iopub.status.idle": "2025-04-15T01:32:57.055416Z",
     "shell.execute_reply": "2025-04-15T01:32:57.054588Z",
     "shell.execute_reply.started": "2025-04-15T01:32:57.037264Z"
    },
    "trusted": true
   },
   "outputs": [],
   "source": [
    "from sklearn.preprocessing import LabelEncoder, OneHotEncoder\n",
    "\n",
    "label_encoder = LabelEncoder()\n",
    "labels_int = label_encoder.fit_transform(labels)            # 1‑D, shape (N,)\n",
    "\n",
    "one_hot_encoder = OneHotEncoder(sparse_output=False)\n",
    "labels_onehot = one_hot_encoder.fit_transform(labels_int.reshape(-1, 1))  # (N, C)\n",
    "\n",
    "print(\"\\nEncoded shapes:\")\n",
    "print(\"labels_int   :\", labels_int.shape)\n",
    "print(\"labels_onehot:\", labels_onehot.shape)"
   ]
  },
  {
   "cell_type": "code",
   "execution_count": null,
   "metadata": {
    "execution": {
     "iopub.execute_input": "2025-04-15T01:32:57.056903Z",
     "iopub.status.busy": "2025-04-15T01:32:57.056540Z",
     "iopub.status.idle": "2025-04-15T01:32:57.061517Z",
     "shell.execute_reply": "2025-04-15T01:32:57.060566Z",
     "shell.execute_reply.started": "2025-04-15T01:32:57.056865Z"
    },
    "trusted": true
   },
   "outputs": [],
   "source": [
    "# Mixed Precision for Faster Training\n",
    "from tensorflow.keras import mixed_precision\n",
    "mixed_precision.set_global_policy('mixed_float16')  # Uses FP16 for speed"
   ]
  },
  {
   "cell_type": "code",
   "execution_count": null,
   "metadata": {
    "execution": {
     "iopub.execute_input": "2025-04-15T01:32:57.063044Z",
     "iopub.status.busy": "2025-04-15T01:32:57.062478Z",
     "iopub.status.idle": "2025-04-15T01:32:57.242650Z",
     "shell.execute_reply": "2025-04-15T01:32:57.241916Z",
     "shell.execute_reply.started": "2025-04-15T01:32:57.063014Z"
    },
    "trusted": true
   },
   "outputs": [],
   "source": [
    "# EfficientNet Model\n",
    "from tensorflow.keras import layers\n",
    "from tensorflow.keras.applications import EfficientNetB2\n",
    "\n",
    "num_classes = len(categories)\n",
    "\n",
    "data_augmentation = tf.keras.Sequential([\n",
    "    tf.keras.layers.RandomFlip('horizontal'),\n",
    "    tf.keras.layers.RandomRotation(0.1),\n",
    "    tf.keras.layers.RandomZoom(0.1),\n",
    "])"
   ]
  },
  {
   "cell_type": "code",
   "execution_count": null,
   "metadata": {
    "execution": {
     "iopub.execute_input": "2025-04-15T01:32:57.243715Z",
     "iopub.status.busy": "2025-04-15T01:32:57.243454Z",
     "iopub.status.idle": "2025-04-15T01:33:00.799257Z",
     "shell.execute_reply": "2025-04-15T01:33:00.798258Z",
     "shell.execute_reply.started": "2025-04-15T01:32:57.243684Z"
    },
    "trusted": true
   },
   "outputs": [],
   "source": [
    "# Split Dataset\n",
    "from sklearn.utils import shuffle\n",
    "from sklearn.model_selection import train_test_split\n",
    "\n",
    "images, labels_onehot = shuffle(images, labels_onehot, random_state=42)\n",
    "\n",
    "train_x, val_x, train_y, val_y = train_test_split(\n",
    "    images,\n",
    "    labels_onehot,\n",
    "    test_size=0.1,\n",
    "    random_state=42,\n",
    "    stratify=labels_int\n",
    ")\n",
    "\n",
    "train_y = train_y.astype('float32')\n",
    "val_y   = val_y.astype('float32')\n",
    "num_classes = train_y.shape[1]"
   ]
  },
  {
   "cell_type": "code",
   "execution_count": null,
   "metadata": {
    "execution": {
     "iopub.execute_input": "2025-04-15T01:55:26.286000Z",
     "iopub.status.busy": "2025-04-15T01:55:26.285528Z",
     "iopub.status.idle": "2025-04-15T02:13:17.757864Z",
     "shell.execute_reply": "2025-04-15T02:13:17.756746Z",
     "shell.execute_reply.started": "2025-04-15T01:55:26.285961Z"
    },
    "trusted": true
   },
   "outputs": [],
   "source": [
    "# Model Training\n",
    "from tensorflow.keras import models\n",
    "from tensorflow.keras.callbacks import ModelCheckpoint, EarlyStopping, ReduceLROnPlateau\n",
    "\n",
    "# Pretrained base with transfer learning\n",
    "base_model = EfficientNetB2(weights='imagenet', include_top=False, input_shape=(260, 260, 3))\n",
    "\n",
    "# Freeze base\n",
    "base_model.trainable = False\n",
    "\n",
    "# Building classification head\n",
    "inputs = tf.keras.Input(shape=(260, 260, 3))\n",
    "x = data_augmentation(inputs)  # augmentation pipeline\n",
    "x = base_model(x, training=False)\n",
    "x = layers.GlobalAveragePooling2D()(x)\n",
    "x = layers.Dropout(0.4)(x)  # dropout to reduce overfitting\n",
    "outputs = layers.Dense(num_classes, activation='softmax')(x)\n",
    "model = models.Model(inputs, outputs)\n",
    "\n",
    "# Compiling with a lower LR\n",
    "optimizer = tf.keras.optimizers.Adam(learning_rate=1e-4)\n",
    "model.compile(optimizer=optimizer,\n",
    "              loss='categorical_crossentropy',\n",
    "              metrics=['accuracy'])\n",
    "\n",
    "# Callbacks\n",
    "callbacks = [\n",
    "    ModelCheckpoint('/kaggle/working/best_model.keras',  # Save in the working directory\n",
    "                   save_best_only=True,\n",
    "                   monitor='val_loss',\n",
    "                   mode='min'),\n",
    "    EarlyStopping(monitor='val_loss',\n",
    "                 patience=7,\n",
    "                 restore_best_weights=True),\n",
    "    ReduceLROnPlateau(monitor='val_loss',\n",
    "                     factor=0.5,\n",
    "                     patience=3)\n",
    "]\n",
    "\n",
    "# Train first phase\n",
    "initial_epochs = 32\n",
    "history = model.fit(\n",
    "    train_x, train_y,\n",
    "    epochs=initial_epochs,\n",
    "    batch_size=16,\n",
    "    validation_data=(val_x, val_y),\n",
    "    callbacks=callbacks\n",
    ")\n",
    "\n",
    "# Unfreeze deeper layers for fine-tuning\n",
    "base_model.trainable = True\n",
    "# freeze the first few layers (optional)\n",
    "for layer in base_model.layers[:100]:\n",
    "    layer.trainable = False\n",
    "\n",
    "# Lower LR again for fine-tuning\n",
    "optimizer = tf.keras.optimizers.Adam(learning_rate=1e-5)\n",
    "model.compile(\n",
    "    optimizer=optimizer,\n",
    "    loss='categorical_crossentropy',\n",
    "    metrics=['accuracy']\n",
    ")\n",
    "\n",
    "# Fine-tuning phase\n",
    "fine_tune_epochs = 32\n",
    "total_epochs = initial_epochs + fine_tune_epochs\n",
    "\n",
    "history_fine = model.fit(\n",
    "    train_x, train_y,\n",
    "    epochs=total_epochs,\n",
    "    initial_epoch=history.epoch[-1] + 1,  # start from last epoch\n",
    "    batch_size=16,\n",
    "   validation_data=(val_x, val_y),\n",
    "    callbacks=callbacks  # same callbacks to keep saving best model\n",
    ")"
   ]
  },
  {
   "cell_type": "code",
   "execution_count": null,
   "metadata": {
    "execution": {
     "iopub.execute_input": "2025-04-15T02:13:18.142188Z",
     "iopub.status.busy": "2025-04-15T02:13:18.141916Z",
     "iopub.status.idle": "2025-04-15T02:13:18.518442Z",
     "shell.execute_reply": "2025-04-15T02:13:18.517526Z",
     "shell.execute_reply.started": "2025-04-15T02:13:18.142166Z"
    },
    "trusted": true
   },
   "outputs": [],
   "source": [
    "import matplotlib.pyplot as plt\n",
    "\n",
    "# Collect the metrics from both phases\n",
    "acc      = history.history['accuracy'] + history_fine.history['accuracy']\n",
    "val_acc  = history.history['val_accuracy'] + history_fine.history['val_accuracy']\n",
    "loss     = history.history['loss'] + history_fine.history['loss']\n",
    "val_loss = history.history['val_loss'] + history_fine.history['val_loss']\n",
    "\n",
    "epochs = range(1, len(acc) + 1)\n",
    "\n",
    "#Plot accuracy\n",
    "plt.figure(figsize=(6, 4))\n",
    "plt.plot(epochs, acc,      label='Training Accuracy')\n",
    "plt.plot(epochs, val_acc,  label='Validation Accuracy')\n",
    "plt.title('Training vs. Validation Accuracy')\n",
    "plt.xlabel('Epoch')\n",
    "plt.ylabel('Accuracy')\n",
    "plt.legend()\n",
    "plt.grid(True)\n",
    "plt.show()\n",
    "\n",
    "# Plot loss \n",
    "plt.figure(figsize=(6, 4))\n",
    "plt.plot(epochs, loss,     label='Training Loss')\n",
    "plt.plot(epochs, val_loss, label='Validation Loss')\n",
    "plt.title('Training vs. Validation Loss')\n",
    "plt.xlabel('Epoch')\n",
    "plt.ylabel('Loss')\n",
    "plt.legend()\n",
    "plt.grid(True)\n",
    "plt.show()\n"
   ]
  },
  {
   "cell_type": "code",
   "execution_count": null,
   "metadata": {
    "execution": {
     "iopub.execute_input": "2025-04-15T01:50:57.108828Z",
     "iopub.status.busy": "2025-04-15T01:50:57.108490Z",
     "iopub.status.idle": "2025-04-15T01:51:00.356316Z",
     "shell.execute_reply": "2025-04-15T01:51:00.355139Z",
     "shell.execute_reply.started": "2025-04-15T01:50:57.108800Z"
    },
    "trusted": true
   },
   "outputs": [],
   "source": [
    "# Evaluation on Test Set\n",
    "best_model = tf.keras.models.load_model('best_model.keras')\n",
    "\n",
    "test_loss, test_acc = best_model.evaluate(test_x, test_y)\n",
    "print(f\"\\nTest Loss: {test_loss:.4f}, Test Accuracy: {test_acc:.4f}\")"
   ]
  },
  {
   "cell_type": "code",
   "execution_count": null,
   "metadata": {},
   "outputs": [],
   "source": [
    "from sklearn.metrics import confusion_matrix, classification_report\n",
    "import numpy as np\n",
    "\n",
    "# Class probabilities\n",
    "y_pred_probs = best_model.predict(test_x)\n",
    "\n",
    "# Converting one-hot encoded labels to class indices\n",
    "y_true = np.argmax(test_y, axis=1)\n",
    "y_pred = np.argmax(y_pred_probs, axis=1)\n",
    "\n",
    "# Compute confusion matrix\n",
    "cm = confusion_matrix(y_true, y_pred)\n",
    "print(\"Confusion Matrix:\")\n",
    "print(cm)\n",
    "\n",
    "# Binary classification\n",
    "if cm.shape == (2, 2):\n",
    "    TN, FP, FN, TP = cm.ravel()\n",
    "\n",
    "    sensitivity = TP / (TP + FN)  # Recall / TPR\n",
    "    specificity = TN / (TN + FP)  # TNR\n",
    "\n",
    "    print(f\"Sensitivity (Recall): {sensitivity:.4f}\")\n",
    "    print(f\"Specificity: {specificity:.4f}\")\n",
    "\n",
    "else:\n",
    "    print(\"\\nClassification Report:\")\n",
    "    print(classification_report(y_true, y_pred, target_names=categories))"
   ]
  },
  {
   "cell_type": "code",
   "execution_count": null,
   "metadata": {
    "trusted": true
   },
   "outputs": [],
   "source": [
    "\n",
    "def upload_image():\n",
    "    from google.colab import files\n",
    "    uploaded = files.upload()\n",
    "    for filename in uploaded.keys():\n",
    "        return filename\n",
    "    return None\n",
    "\n",
    "# Prediction function with proper error handling\n",
    "def predict_unseen_image(model):\n",
    "    \"\"\"Helper function to load, preprocess and predict on a single image\"\"\"\n",
    "    try:\n",
    "        # Upload the image\n",
    "        print(\"Please upload an image file:\")\n",
    "        img_path = upload_image()\n",
    "\n",
    "        if not img_path:\n",
    "            raise FileNotFoundError(\"No image was uploaded\")\n",
    "\n",
    "        # Load the image\n",
    "        img = cv2.imread(img_path)\n",
    "        if img is None:\n",
    "            raise FileNotFoundError(f\"Could not read image at path: {img_path}\")\n",
    "\n",
    "        # Preprocess\n",
    "        img = cv2.cvtColor(img, cv2.COLOR_BGR2RGB)  # Convert BGR to RGB\n",
    "        img = cv2.resize(img, (260, 260))  # Resize to B2 model's input size\n",
    "\n",
    "        # Display the image\n",
    "        plt.figure(figsize=(6, 6))\n",
    "        plt.imshow(img)\n",
    "        plt.axis(\"off\")\n",
    "        plt.title(\"Input Image\")\n",
    "        plt.show()\n",
    "\n",
    "        # Prepare for model prediction\n",
    "        x = np.expand_dims(img, axis=0)  # Add batch dimension\n",
    "        x = tf.keras.applications.efficientnet.preprocess_input(x)  # Use correct preprocessing\n",
    "\n",
    "        # Make prediction\n",
    "        prediction = model.predict(x)\n",
    "        predicted_class = np.argmax(prediction)\n",
    "        confidence = np.max(prediction)\n",
    "\n",
    "        print(\"\\nPrediction Results:\")\n",
    "        print(f\"Raw Prediction Output: {prediction}\")\n",
    "        print(f\"Predicted Class: {predicted_class}\")\n",
    "        print(f\"Confidence: {confidence:.2%}\")\n",
    "\n",
    "        return prediction\n",
    "\n",
    "    except Exception as e:\n",
    "        print(f\"\\nError: {e}\")\n",
    "        return None\n",
    "\n",
    "# Run the prediction\n",
    "predict_unseen_image(best_model)"
   ]
  }
 ],
 "metadata": {
  "kaggle": {
   "accelerator": "none",
   "dataSources": [
    {
     "datasetId": 7076611,
     "sourceId": 11313927,
     "sourceType": "datasetVersion"
    }
   ],
   "dockerImageVersionId": 30919,
   "isGpuEnabled": false,
   "isInternetEnabled": false,
   "language": "python",
   "sourceType": "notebook"
  },
  "kernelspec": {
   "display_name": "Python 3",
   "language": "python",
   "name": "python3"
  },
  "language_info": {
   "codemirror_mode": {
    "name": "ipython",
    "version": 3
   },
   "file_extension": ".py",
   "mimetype": "text/x-python",
   "name": "python",
   "nbconvert_exporter": "python",
   "pygments_lexer": "ipython3",
   "version": "3.10.12"
  }
 },
 "nbformat": 4,
 "nbformat_minor": 4
}
